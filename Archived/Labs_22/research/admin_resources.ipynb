{
  "nbformat": 4,
  "nbformat_minor": 0,
  "metadata": {
    "colab": {
      "name": "admin_resources_signlingo.ipynb",
      "provenance": [],
      "collapsed_sections": []
    },
    "kernelspec": {
      "name": "python3",
      "display_name": "Python 3"
    }
  },
  "cells": [
    {
      "cell_type": "markdown",
      "metadata": {
        "id": "94fz4oSSC4CL",
        "colab_type": "text"
      },
      "source": [
        "# Project Notes\n",
        "\n",
        "### **People We're Collaborating with**\n",
        "- Joseph Featherstone, Professor of ASL & Head of Sales for [SignGlasses](signglasses.com): **[INIITIAL MEETING NOTES](https://https://docs.google.com/document/d/1sABuFEhSnHzYB-TuHp_LXgE0ZTQH8mUPCqcoKj6Fe8k/edit?usp=sharing)**\n",
        "\n",
        "   ##### **Meeting Notes**\n",
        "\n",
        "  \n",
        "    The Field:\n",
        "     - Microsoft + RIT- automatic captioning success\n",
        "    Unique challenges: \n",
        "     - People feel weird learning when it’s too quiet so they ask for music in class\n",
        "     - People’s eyes get super tired\n",
        "    Curriculum:\n",
        "     - Allow teachers to add curriculum!!! \n",
        "     - Allow a suggestion for how to review incorrect answers \n",
        "     - Signing naturally (curriculum has 3 main books) 1-6, 7-10, etc\n",
        "     - Learn to spell: introduction to fingerspelling\n",
        "     - Families: hungry, full \n",
        "     - Later: grammar, facial expressions, using \n",
        "     - Suggestion: learn ASL & not fingerspelling first\n",
        "     - They all have motion: there’s not really any set of words without motion, focus on motion & video\n",
        "    - ASL has grammar - similar to english and spanish, not 100% set, grammar is unique\n",
        "    Proficiency: \n",
        "     - 5-10 years of immersive signing to become proficient\n",
        "    \n",
        "      Only 3 or 4 published professional curriculums for ASL \n",
        "    don sign press\n",
        "    Mastering ASL\n",
        "    True way ASL, just came out, video, online resources\n",
        "    A lot of people teach via youtube but don’t know ASL super well \n",
        "    Video:\n",
        "     - Signing time: tv show, the woman uses blue tape for thumb and pinky, \n",
        "     -  ASL has community culture and unique identity: with language comes culture\n",
        "    Ideal: as a teacher, send students to the online platform, sign new sign, tells the student they’re wrong \n",
        "    SignGlasses:  \n",
        "    - Works with remote people - the glasses help them see what they’re doing and see the \n",
        "\n"
      ]
    },
    {
      "cell_type": "markdown",
      "metadata": {
        "id": "7Y36yL6wUTIY",
        "colab_type": "text"
      },
      "source": [
        "## Administrative Learning Resources I consulted during SignLingo Build\n",
        "\n",
        "#### Stage vs Production Environment\n",
        "-  Read [this](https://dev.to/flippedcoding/difference-between-development-stage-and-production-d0p)\n",
        "- Development - on your computer, commits & branches live here, usually connected to dummy data (nothing here could affect what users see when they pull up the website)\n",
        "- Staging - similar to development - all of the code on a server instead of local machine, database migrations, version updates, & configuration changes\n",
        "- Production (new system, more code) - where users access the final code after all of the updates and testing (some people do roll outs, to handle load etc) \n"
      ]
    },
    {
      "cell_type": "markdown",
      "metadata": {
        "id": "G0y2nYfZZe-I",
        "colab_type": "text"
      },
      "source": [
        "#### **Project Management / Product Engineering** 3.18\n",
        "- MIT's Introduction to Product Engineering class is all online [here](https://https://web.mit.edu/2.009/www/schedule/ScheduleChart.html#current)\n",
        "\n",
        "Testing & QA (Quality Assurance)\n",
        "- [Integration testing ](https://http://softwaretestingfundamentals.com/integration-testing/) - ntegration testing is the phase in software testing in which individual software modules are combined and tested as a group. Integration testing is conducted to evaluate the compliance of a system or component with specified functional requirements. It occurs after unit testing and before validation testing\n",
        "- Synthetic Testing - Synthetic monitoring is a monitoring technique that is done by using an emulation or scripted recordings of transactions. Behavioral scripts are created to simulate an action or path that a customer or end-user would take on a site, application or other software\n",
        "\n",
        "Product Quality Assurance\n",
        "- Scripted tests (click these buttons, check that it produces ____) & automated tests \n",
        "- [Code climate](https://codeclimate.com/) runs a variety of tests\n",
        "- **every repo needs code climate badges prominently displayed**\n",
        "- code base for testing will be three times as large as regular testing\n",
        "- rewatch second hour of this lecture for details about code climate \n",
        "\n",
        "\n",
        "Vocabulary: \n",
        "- Linting - the process of running a program that will analyse code for potential errors. See lint on wikipedia: lint was the name originally given to a particular program that flagged some suspicious and non-portable constructs (likely to be bugs) in C language source code. \n",
        "\n",
        "#### **Pair Programming** 3.20\n",
        "- Mob programming - more than one! "
      ]
    }
  ]
}